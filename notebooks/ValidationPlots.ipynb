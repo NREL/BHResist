{
 "cells": [
  {
   "cell_type": "code",
   "execution_count": null,
   "id": "fcebfefa-e9de-4479-8c64-c838ed311117",
   "metadata": {},
   "outputs": [],
   "source": [
    "import sys\n",
    "from math import pi\n",
    "from pathlib import Path\n",
    "\n",
    "import numpy as np\n",
    "import pygfunction as gt\n",
    "import tabulate"
   ]
  },
  {
   "cell_type": "code",
   "execution_count": null,
   "id": "3d449f05-4ece-43c2-bc33-1841e8c9a64a",
   "metadata": {},
   "outputs": [],
   "source": [
    "here = Path()\n",
    "here.resolve()"
   ]
  },
  {
   "cell_type": "code",
   "execution_count": null,
   "id": "74c78c24-4a26-4000-a81b-1e81b61cdda1",
   "metadata": {},
   "outputs": [],
   "source": [
    "root = here / \"..\"\n",
    "root.exists()"
   ]
  },
  {
   "cell_type": "code",
   "execution_count": null,
   "id": "f87d44f7-5495-45cf-8838-3ea0af482ebc",
   "metadata": {},
   "outputs": [],
   "source": [
    "sys.path.insert(0, str(root))"
   ]
  },
  {
   "cell_type": "code",
   "execution_count": null,
   "id": "07240ad5-296e-4ede-902d-48b06074ef64",
   "metadata": {},
   "outputs": [],
   "source": [
    "from bhr.borehole import Borehole"
   ]
  },
  {
   "cell_type": "markdown",
   "id": "230216e9-1097-40d6-8f84-793e3d4e6e6e",
   "metadata": {},
   "source": [
    "# Comparison - PyGFunction\n",
    "\n",
    "Example code taken from [here](https://github.com/MassimoCimmino/pygfunction/blob/9217d8d77c124239d4c1c881e34eb44c9ac6ade4/examples/custom_borehole.py)"
   ]
  },
  {
   "cell_type": "markdown",
   "id": "dbd179bd-7913-4d34-94cc-b8817982301a",
   "metadata": {},
   "source": [
    "## Single U-tube"
   ]
  },
  {
   "cell_type": "code",
   "execution_count": null,
   "id": "a6eab176-8390-4f0e-af8c-22bda2d6f004",
   "metadata": {},
   "outputs": [],
   "source": [
    "# Borehole dimensions\n",
    "D = 5.0  # Borehole buried depth (m)\n",
    "H = 400.0  # Borehole length (m)\n",
    "r_b = 0.0875  # Borehole radius (m)\n",
    "\n",
    "# Pipe dimensions (all configurations)\n",
    "epsilon = 1.0e-6  # Pipe roughness (m)\n",
    "\n",
    "# Pipe dimensions (single U-tube and double U-tube)\n",
    "r_out = 0.0211  # Pipe outer radius (m)\n",
    "r_in = 0.0147  # Pipe inner radius (m)\n",
    "D_s = 0.052  # Shank spacing (m)\n",
    "\n",
    "# Pipe dimensions (coaxial)\n",
    "r_in_in = 0.0221  # Inside pipe inner radius (m)\n",
    "r_in_out = 0.025  # Inside pipe outer radius (m)\n",
    "r_out_in = 0.0487  # Outer pipe inside radius (m)\n",
    "r_out_out = 0.055  # Outer pipe outside radius (m)\n",
    "# Vectors of inner and outer pipe radii\n",
    "# Note : The dimensions of the inlet pipe are the first elements of\n",
    "#        the vectors. In this example, the inlet pipe is the inside pipe.\n",
    "r_inner = np.array([r_in_in, r_out_in])  # Inner pipe radii (m)\n",
    "r_outer = np.array([r_in_out, r_out_out])  # Outer pip radii (m)\n",
    "\n",
    "# Ground properties\n",
    "k_s = 2.0  # Ground thermal conductivity (W/m.K)\n",
    "\n",
    "# Grout properties\n",
    "k_g = 1.0  # Grout thermal conductivity (W/m.K)\n",
    "\n",
    "# Pipe properties\n",
    "k_p = 0.4  # Pipe thermal conductivity (W/m.K)\n",
    "\n",
    "# Fluid properties\n",
    "# Total fluid mass flow rate per borehole (kg/s)\n",
    "m_flow_borehole = 1.0\n",
    "# The fluid is propylene-glycol (20 %) at 20 degC\n",
    "fluid = gt.media.Fluid(\"MPG\", 20.0)\n",
    "cp_f = fluid.cp  # Fluid specific isobaric heat capacity (J/kg.K)\n",
    "rho_f = fluid.rho  # Fluid density (kg/m3)\n",
    "mu_f = fluid.mu  # Fluid dynamic viscosity (kg/m.s)\n",
    "k_f = fluid.k  # Fluid thermal conductivity (W/m.K)\n",
    "\n",
    "# -------------------------------------------------------------------------\n",
    "# Initialize borehole model\n",
    "# -------------------------------------------------------------------------\n",
    "\n",
    "borehole = gt.boreholes.Borehole(H, D, r_b, x=0.0, y=0.0)\n",
    "\n",
    "# -------------------------------------------------------------------------\n",
    "# Define a single U-tube borehole\n",
    "# -------------------------------------------------------------------------\n",
    "\n",
    "# Pipe positions\n",
    "# Single U-tube [(x_in, y_in), (x_out, y_out)]\n",
    "pos_single = [(-D_s, 0.0), (D_s, 0.0)]\n",
    "\n",
    "# Pipe thermal resistance\n",
    "R_p = gt.pipes.conduction_thermal_resistance_circular_pipe(r_in, r_out, k_p)\n",
    "\n",
    "# Fluid to inner pipe wall thermal resistance\n",
    "m_flow_pipe = m_flow_borehole\n",
    "h_f = gt.pipes.convective_heat_transfer_coefficient_circular_pipe(m_flow_pipe, r_in, mu_f, rho_f, k_f, cp_f, epsilon)\n",
    "R_f = 1.0 / (h_f * 2 * pi * r_in)\n",
    "\n",
    "# Single U-tube GHE in borehole\n",
    "SingleUTube = gt.pipes.SingleUTube(pos_single, r_in, r_out, borehole, k_s, k_g, R_f + R_p)\n",
    "\n",
    "# Evaluate and print the effective borehole thermal resistance\n",
    "R_b = SingleUTube.effective_borehole_thermal_resistance(m_flow_borehole, fluid.cp)"
   ]
  },
  {
   "cell_type": "code",
   "execution_count": null,
   "id": "c65a01a80375c763",
   "metadata": {},
   "outputs": [],
   "source": [
    "SingleUTube.visualize_pipes()"
   ]
  },
  {
   "cell_type": "code",
   "execution_count": null,
   "id": "6d608f42-6566-45da-be07-69f4b5617e57",
   "metadata": {},
   "outputs": [],
   "source": [
    "single_bhr = Borehole()\n",
    "single_bhr.init_single_u_borehole(\n",
    "    borehole_diameter=r_b * 2,\n",
    "    pipe_outer_diameter=r_out * 2,\n",
    "    pipe_dimension_ratio=(2 * r_out) / (r_out - r_in),\n",
    "    length=H,\n",
    "    shank_space=2 * (D_s - r_out),\n",
    "    pipe_conductivity=k_p,\n",
    "    grout_conductivity=k_g,\n",
    "    soil_conductivity=k_s,\n",
    "    fluid_type=\"PROPYLENEGLYCOL\",\n",
    "    fluid_concentration=0.2,\n",
    ")"
   ]
  },
  {
   "cell_type": "code",
   "execution_count": null,
   "id": "c6b655af6ed13167",
   "metadata": {},
   "outputs": [],
   "source": [
    "temp = 20\n",
    "\n",
    "single_data = [\n",
    "    [\"\", \"pygfunction\", \"BHResist\"],\n",
    "    [\"Borehole Dia.\", r_b * 2, single_bhr._bh.borehole_diameter],\n",
    "    [\"Pipe Outer Dia.\", r_out * 2, single_bhr._bh.pipe_outer_diameter],\n",
    "    [\"Pipe Inner Dia.\", r_in * 2, single_bhr._bh.pipe_inner_diameter],\n",
    "    [\"Rp + Rf\", f\"{R_p + R_f:0.5f}\", f\"{single_bhr._bh.calc_pipe_resist(m_flow_borehole, temp):0.5f}\"],\n",
    "    [\"Rb\", f\"{R_b:0.5f}\", f\"{single_bhr.calc_bh_resist(m_flow_borehole, temp):0.5f}\"],\n",
    "]\n",
    "\n",
    "table = tabulate.tabulate(single_data, tablefmt=\"html\")\n",
    "table"
   ]
  },
  {
   "cell_type": "code",
   "execution_count": null,
   "id": "11f9a5ca48d3d0ea",
   "metadata": {},
   "outputs": [],
   "source": []
  }
 ],
 "metadata": {
  "kernelspec": {
   "display_name": "Python 3 (ipykernel)",
   "language": "python",
   "name": "python3"
  },
  "language_info": {
   "codemirror_mode": {
    "name": "ipython",
    "version": 3
   },
   "file_extension": ".py",
   "mimetype": "text/x-python",
   "name": "python",
   "nbconvert_exporter": "python",
   "pygments_lexer": "ipython3",
   "version": "3.12.3"
  }
 },
 "nbformat": 4,
 "nbformat_minor": 5
}
