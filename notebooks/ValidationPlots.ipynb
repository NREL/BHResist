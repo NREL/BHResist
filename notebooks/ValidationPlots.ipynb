{
 "cells": [
  {
   "cell_type": "code",
   "execution_count": 1,
   "id": "fcebfefa-e9de-4479-8c64-c838ed311117",
   "metadata": {},
   "outputs": [],
   "source": [
    "import sys\n",
    "from math import pi\n",
    "from pathlib import Path\n",
    "\n",
    "import numpy as np\n",
    "import pygfunction as gt\n",
    "import tabulate"
   ]
  },
  {
   "cell_type": "code",
   "execution_count": 2,
   "id": "3d449f05-4ece-43c2-bc33-1841e8c9a64a",
   "metadata": {},
   "outputs": [
    {
     "data": {
      "text/plain": [
       "PosixPath('/home/mitchute/Projects/BHResist/notebooks')"
      ]
     },
     "execution_count": 2,
     "metadata": {},
     "output_type": "execute_result"
    }
   ],
   "source": [
    "here = Path()\n",
    "here.resolve()"
   ]
  },
  {
   "cell_type": "code",
   "execution_count": 3,
   "id": "74c78c24-4a26-4000-a81b-1e81b61cdda1",
   "metadata": {},
   "outputs": [
    {
     "data": {
      "text/plain": [
       "True"
      ]
     },
     "execution_count": 3,
     "metadata": {},
     "output_type": "execute_result"
    }
   ],
   "source": [
    "root = here / \"..\"\n",
    "root.exists()"
   ]
  },
  {
   "cell_type": "code",
   "execution_count": 4,
   "id": "f87d44f7-5495-45cf-8838-3ea0af482ebc",
   "metadata": {},
   "outputs": [],
   "source": [
    "sys.path.insert(0, str(root))"
   ]
  },
  {
   "cell_type": "code",
   "execution_count": 5,
   "id": "07240ad5-296e-4ede-902d-48b06074ef64",
   "metadata": {},
   "outputs": [],
   "source": [
    "from bhr.borehole import Borehole"
   ]
  },
  {
   "cell_type": "markdown",
   "id": "230216e9-1097-40d6-8f84-793e3d4e6e6e",
   "metadata": {},
   "source": [
    "# Comparison - PyGFunction\n",
    "\n",
    "pygfunction example code taken from [here](https://github.com/MassimoCimmino/pygfunction/blob/9217d8d77c124239d4c1c881e34eb44c9ac6ade4/examples/custom_borehole.py)"
   ]
  },
  {
   "cell_type": "markdown",
   "id": "dbd179bd-7913-4d34-94cc-b8817982301a",
   "metadata": {},
   "source": [
    "## Single U-tube"
   ]
  },
  {
   "cell_type": "code",
   "execution_count": 6,
   "id": "a6eab176-8390-4f0e-af8c-22bda2d6f004",
   "metadata": {},
   "outputs": [],
   "source": [
    "# -------------------------------------------------------------------------\n",
    "# Define a single U-tube borehole\n",
    "# -------------------------------------------------------------------------\n",
    "\n",
    "# Borehole dimensions\n",
    "D = 5.0  # Borehole buried depth (m)\n",
    "H = 400.0  # Borehole length (m)\n",
    "r_b = 0.0875  # Borehole radius (m)\n",
    "\n",
    "# Pipe dimensions (all configurations)\n",
    "epsilon = 1.0e-6  # Pipe roughness (m)\n",
    "\n",
    "# Pipe dimensions (single U-tube and double U-tube)\n",
    "r_out = 0.0211  # Pipe outer radius (m)\n",
    "r_in = 0.0147  # Pipe inner radius (m)\n",
    "D_s = 0.052  # Shank spacing (m)\n",
    "\n",
    "# Ground properties\n",
    "k_s = 2.0  # Ground thermal conductivity (W/m.K)\n",
    "\n",
    "# Grout properties\n",
    "k_g = 1.0  # Grout thermal conductivity (W/m.K)\n",
    "\n",
    "# Pipe properties\n",
    "k_p = 0.4  # Pipe thermal conductivity (W/m.K)\n",
    "\n",
    "# Fluid properties\n",
    "# Total fluid mass flow rate per borehole (kg/s)\n",
    "m_flow_borehole = 1.0\n",
    "\n",
    "# The fluid is propylene-glycol (20 %) at 20 degC\n",
    "fluid = gt.media.Fluid(\"MPG\", 20.0)\n",
    "cp_f = fluid.cp  # Fluid specific isobaric heat capacity (J/kg.K)\n",
    "rho_f = fluid.rho  # Fluid density (kg/m3)\n",
    "mu_f = fluid.mu  # Fluid dynamic viscosity (kg/m.s)\n",
    "k_f = fluid.k  # Fluid thermal conductivity (W/m.K)\n",
    "\n",
    "# -------------------------------------------------------------------------\n",
    "# Initialize borehole model\n",
    "# -------------------------------------------------------------------------\n",
    "\n",
    "borehole = gt.boreholes.Borehole(H, D, r_b, x=0.0, y=0.0)\n",
    "\n",
    "# -------------------------------------------------------------------------\n",
    "# Define a single U-tube borehole\n",
    "# -------------------------------------------------------------------------\n",
    "\n",
    "# Pipe positions\n",
    "# Single U-tube [(x_in, y_in), (x_out, y_out)]\n",
    "pos_single = [(-D_s, 0.0), (D_s, 0.0)]\n",
    "\n",
    "# Pipe thermal resistance\n",
    "R_p = gt.pipes.conduction_thermal_resistance_circular_pipe(r_in, r_out, k_p)\n",
    "\n",
    "# Fluid to inner pipe wall thermal resistance\n",
    "m_flow_pipe = m_flow_borehole\n",
    "h_f = gt.pipes.convective_heat_transfer_coefficient_circular_pipe(m_flow_pipe, r_in, mu_f, rho_f, k_f, cp_f, epsilon)\n",
    "R_f = 1.0 / (h_f * 2 * pi * r_in)\n",
    "\n",
    "# Single U-tube GHE in borehole\n",
    "SingleUTube = gt.pipes.SingleUTube(pos_single, r_in, r_out, borehole, k_s, k_g, R_f + R_p)\n",
    "\n",
    "# Evaluate and print the effective borehole thermal resistance\n",
    "R_b = SingleUTube.effective_borehole_thermal_resistance(m_flow_borehole, fluid.cp)"
   ]
  },
  {
   "cell_type": "code",
   "execution_count": 7,
   "id": "6d608f42-6566-45da-be07-69f4b5617e57",
   "metadata": {},
   "outputs": [],
   "source": [
    "single_bhr = Borehole()\n",
    "single_bhr.init_single_u_borehole(\n",
    "    borehole_diameter=r_b * 2,\n",
    "    pipe_outer_diameter=r_out * 2,\n",
    "    pipe_dimension_ratio=(2 * r_out) / (r_out - r_in),\n",
    "    length=H,\n",
    "    shank_space=D_s,\n",
    "    pipe_conductivity=k_p,\n",
    "    grout_conductivity=k_g,\n",
    "    soil_conductivity=k_s,\n",
    "    fluid_type=\"PROPYLENEGLYCOL\",\n",
    "    fluid_concentration=0.2,\n",
    ")"
   ]
  },
  {
   "cell_type": "code",
   "execution_count": 8,
   "id": "c6b655af6ed13167",
   "metadata": {},
   "outputs": [
    {
     "data": {
      "text/html": [
       "<table>\n",
       "<tbody>\n",
       "<tr><td>               </td><td>pygfunction</td><td>BHResist</td></tr>\n",
       "<tr><td>Borehole Dia.  </td><td>0.175      </td><td>0.175   </td></tr>\n",
       "<tr><td>Pipe Outer Dia.</td><td>0.0422     </td><td>0.0422  </td></tr>\n",
       "<tr><td>Pipe Inner Dia.</td><td>0.0294     </td><td>0.0294  </td></tr>\n",
       "<tr><td>Shank Spacing  </td><td>0.052      </td><td>0.052   </td></tr>\n",
       "<tr><td>Rp             </td><td>0.14381    </td><td>0.14381 </td></tr>\n",
       "<tr><td>Rf             </td><td>0.00298    </td><td>0.00297 </td></tr>\n",
       "<tr><td>Rb             </td><td>0.17376    </td><td>0.17377 </td></tr>\n",
       "</tbody>\n",
       "</table>"
      ],
      "text/plain": [
       "'<table>\\n<tbody>\\n<tr><td>               </td><td>pygfunction</td><td>BHResist</td></tr>\\n<tr><td>Borehole Dia.  </td><td>0.175      </td><td>0.175   </td></tr>\\n<tr><td>Pipe Outer Dia.</td><td>0.0422     </td><td>0.0422  </td></tr>\\n<tr><td>Pipe Inner Dia.</td><td>0.0294     </td><td>0.0294  </td></tr>\\n<tr><td>Shank Spacing  </td><td>0.052      </td><td>0.052   </td></tr>\\n<tr><td>Rp             </td><td>0.14381    </td><td>0.14381 </td></tr>\\n<tr><td>Rf             </td><td>0.00298    </td><td>0.00297 </td></tr>\\n<tr><td>Rb             </td><td>0.17376    </td><td>0.17377 </td></tr>\\n</tbody>\\n</table>'"
      ]
     },
     "execution_count": 8,
     "metadata": {},
     "output_type": "execute_result"
    }
   ],
   "source": [
    "temp = 20\n",
    "\n",
    "single_data = [\n",
    "    [\"\", \"pygfunction\", \"BHResist\"],\n",
    "    [\"Borehole Dia.\", r_b * 2, single_bhr._bh.borehole_diameter],\n",
    "    [\"Pipe Outer Dia.\", r_out * 2, single_bhr._bh.pipe_outer_diameter],\n",
    "    [\"Pipe Inner Dia.\", r_in * 2, single_bhr._bh.pipe_inner_diameter],\n",
    "    [\"Shank Spacing\", D_s, single_bhr._bh.shank_space],\n",
    "    [\"Rp\", f\"{R_p:0.5f}\", f\"{single_bhr._bh.calc_pipe_cond_resist():0.5f}\"],\n",
    "    [\"Rf\", f\"{R_f:0.5f}\", f\"{single_bhr._bh.calc_pipe_internal_conv_resist(m_flow_borehole, temp):0.5f}\"],\n",
    "    [\"Rb\", f\"{R_b:0.5f}\", f\"{single_bhr.calc_bh_resist(m_flow_borehole, temp):0.5f}\"],\n",
    "]\n",
    "\n",
    "table_single = tabulate.tabulate(single_data, tablefmt=\"html\")\n",
    "table_single"
   ]
  },
  {
   "cell_type": "markdown",
   "id": "870bf5fb-9066-45bf-af71-d6104089372a",
   "metadata": {},
   "source": [
    "## Double U-tube "
   ]
  },
  {
   "cell_type": "code",
   "execution_count": 9,
   "id": "4ebe1ecf-5dba-4363-9548-4883d24aa472",
   "metadata": {},
   "outputs": [],
   "source": [
    "# -------------------------------------------------------------------------\n",
    "# Define a double U-tube borehole\n",
    "# -------------------------------------------------------------------------\n",
    "\n",
    "# Pipe positions\n",
    "# Double U-tube [(x_in1, y_in1), (x_in2, y_in2),\n",
    "#                (x_out1, y_out1), (x_out2, y_out2)]\n",
    "# Note: in series configuration, fluid enters pipe (in,1), exits (out,1),\n",
    "# then enters (in,2) and finally exits (out,2)\n",
    "# (if you view visualize_pipe, series is 1->3->2->4)\n",
    "pos_double = [(-D_s, 0.), (0., -D_s), (D_s, 0.), (0., D_s)]\n",
    "\n",
    "# Pipe thermal resistance\n",
    "R_p = gt.pipes.conduction_thermal_resistance_circular_pipe(\n",
    "        r_in, r_out, k_p)\n",
    "\n",
    "# Fluid to inner pipe wall thermal resistance\n",
    "\n",
    "# Double U-tube in parallel\n",
    "m_flow_pipe_parallel = m_flow_borehole / 2\n",
    "h_f_parallel = gt.pipes.convective_heat_transfer_coefficient_circular_pipe(\n",
    "    m_flow_pipe_parallel, r_in, mu_f, rho_f, k_f, cp_f, epsilon)\n",
    "R_f_parallel = 1.0 / (h_f_parallel * 2 * pi * r_in)\n",
    "\n",
    "# Double U-tube in parallel\n",
    "DoubleUTube_parallel = gt.pipes.MultipleUTube(\n",
    "    pos_double, r_in, r_out, borehole, k_s, k_g, R_p + R_f_parallel, 2,\n",
    "    config='parallel')\n",
    "\n",
    "# Evaluate and print the effective borehole thermal resistance\n",
    "R_b_parallel = DoubleUTube_parallel.effective_borehole_thermal_resistance(\n",
    "    m_flow_borehole, fluid.cp)"
   ]
  },
  {
   "cell_type": "code",
   "execution_count": 10,
   "id": "41b4309e-1aaf-4fae-b1ac-e2b4f5b0467b",
   "metadata": {},
   "outputs": [],
   "source": [
    "double_bhr = Borehole()\n",
    "double_bhr.init_double_u_borehole(\n",
    "    borehole_diameter=r_b * 2,\n",
    "    pipe_outer_diameter=r_out * 2,\n",
    "    pipe_dimension_ratio=(2 * r_out) / (r_out - r_in),\n",
    "    length=H,\n",
    "    shank_space=D_s,\n",
    "    pipe_conductivity=k_p,\n",
    "    pipe_inlet_arrangement=\"DIAGONAL\",\n",
    "    grout_conductivity=k_g,\n",
    "    soil_conductivity=k_s,\n",
    "    fluid_type=\"PROPYLENEGLYCOL\",\n",
    "    fluid_concentration=0.2,\n",
    ")"
   ]
  },
  {
   "cell_type": "code",
   "execution_count": 11,
   "id": "39dde435-9da9-482d-9a8d-99b872f781f7",
   "metadata": {},
   "outputs": [
    {
     "data": {
      "text/html": [
       "<table>\n",
       "<tbody>\n",
       "<tr><td>               </td><td>pygfunction</td><td>BHResist</td></tr>\n",
       "<tr><td>Borehole Dia.  </td><td>0.175      </td><td>0.175   </td></tr>\n",
       "<tr><td>Pipe Outer Dia.</td><td>0.0422     </td><td>0.0422  </td></tr>\n",
       "<tr><td>Pipe Inner Dia.</td><td>0.0294     </td><td>0.0294  </td></tr>\n",
       "<tr><td>Shank Spacing  </td><td>0.052      </td><td>0.052   </td></tr>\n",
       "<tr><td>Rp             </td><td>0.14381    </td><td>0.14381 </td></tr>\n",
       "<tr><td>Rf             </td><td>0.00566    </td><td>0.00560 </td></tr>\n",
       "<tr><td>Rb             </td><td>0.10933    </td><td>0.10248 </td></tr>\n",
       "</tbody>\n",
       "</table>"
      ],
      "text/plain": [
       "'<table>\\n<tbody>\\n<tr><td>               </td><td>pygfunction</td><td>BHResist</td></tr>\\n<tr><td>Borehole Dia.  </td><td>0.175      </td><td>0.175   </td></tr>\\n<tr><td>Pipe Outer Dia.</td><td>0.0422     </td><td>0.0422  </td></tr>\\n<tr><td>Pipe Inner Dia.</td><td>0.0294     </td><td>0.0294  </td></tr>\\n<tr><td>Shank Spacing  </td><td>0.052      </td><td>0.052   </td></tr>\\n<tr><td>Rp             </td><td>0.14381    </td><td>0.14381 </td></tr>\\n<tr><td>Rf             </td><td>0.00566    </td><td>0.00560 </td></tr>\\n<tr><td>Rb             </td><td>0.10933    </td><td>0.10248 </td></tr>\\n</tbody>\\n</table>'"
      ]
     },
     "execution_count": 11,
     "metadata": {},
     "output_type": "execute_result"
    }
   ],
   "source": [
    "double_data = [\n",
    "    [\"\", \"pygfunction\", \"BHResist\"],\n",
    "    [\"Borehole Dia.\", r_b * 2, double_bhr._bh.borehole_diameter],\n",
    "    [\"Pipe Outer Dia.\", r_out * 2, double_bhr._bh.pipe_outer_diameter],\n",
    "    [\"Pipe Inner Dia.\", r_in * 2, double_bhr._bh.pipe_inner_diameter],\n",
    "    [\"Shank Spacing\", D_s, double_bhr._bh.shank_space],\n",
    "    [\"Rp\", f\"{R_p:0.5f}\", f\"{double_bhr._bh.calc_pipe_cond_resist():0.5f}\"],\n",
    "    [\"Rf\", f\"{R_f_parallel:0.5f}\", f\"{double_bhr._bh.calc_pipe_internal_conv_resist(m_flow_pipe_parallel, temp):0.5f}\"],\n",
    "    [\"Rb\", f\"{R_b_parallel:0.5f}\", f\"{double_bhr.calc_bh_resist(m_flow_borehole, temp):0.5f}\"],\n",
    "]\n",
    "\n",
    "double_single = tabulate.tabulate(double_data, tablefmt=\"html\")\n",
    "double_single"
   ]
  },
  {
   "cell_type": "code",
   "execution_count": 13,
   "id": "6c8e937f-5198-496c-ba36-3976ddeb48ba",
   "metadata": {},
   "outputs": [
    {
     "data": {
      "text/plain": [
       "-0.06272240516216238"
      ]
     },
     "execution_count": 13,
     "metadata": {},
     "output_type": "execute_result"
    }
   ],
   "source": [
    "(double_bhr.calc_bh_resist(m_flow_borehole, temp) - R_b_parallel\t) / R_b_parallel"
   ]
  },
  {
   "cell_type": "code",
   "execution_count": null,
   "id": "e3c77ae0-a2e1-4852-ac74-0c5b4e25b05a",
   "metadata": {},
   "outputs": [],
   "source": []
  }
 ],
 "metadata": {
  "kernelspec": {
   "display_name": "Python 3 (ipykernel)",
   "language": "python",
   "name": "python3"
  },
  "language_info": {
   "codemirror_mode": {
    "name": "ipython",
    "version": 3
   },
   "file_extension": ".py",
   "mimetype": "text/x-python",
   "name": "python",
   "nbconvert_exporter": "python",
   "pygments_lexer": "ipython3",
   "version": "3.12.3"
  }
 },
 "nbformat": 4,
 "nbformat_minor": 5
}
