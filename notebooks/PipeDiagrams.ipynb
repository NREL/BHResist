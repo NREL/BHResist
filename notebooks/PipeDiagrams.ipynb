{
 "cells": [
  {
   "cell_type": "code",
   "execution_count": null,
   "id": "7420f107-68b1-46b7-a7da-4d148a3b7564",
   "metadata": {},
   "outputs": [],
   "source": [
    "!pip install matplotlib"
   ]
  },
  {
   "cell_type": "code",
   "execution_count": null,
   "id": "ec54b0f7-6fcf-4450-bd80-8d12618df20d",
   "metadata": {},
   "outputs": [],
   "source": [
    "import sys\n",
    "import warnings\n",
    "from enum import Enum, auto\n",
    "from pathlib import Path\n",
    "\n",
    "import matplotlib.pyplot as plt\n",
    "\n",
    "warnings.filterwarnings(\"ignore\", module=\"matplotlib\\\\..*\")"
   ]
  },
  {
   "cell_type": "code",
   "execution_count": null,
   "id": "9404171d-e555-4ad5-9212-6bed34bdec12",
   "metadata": {},
   "outputs": [],
   "source": [
    "here = Path()\n",
    "root = here / \"..\"\n",
    "root.exists()"
   ]
  },
  {
   "cell_type": "code",
   "execution_count": null,
   "id": "81f8f323-607c-49cf-834f-b9be26debc9b",
   "metadata": {},
   "outputs": [],
   "source": [
    "sys.path.insert(0, str(root))"
   ]
  },
  {
   "cell_type": "code",
   "execution_count": null,
   "id": "a31bff33-49e0-42fb-af25-102181af8b7a",
   "metadata": {},
   "outputs": [],
   "source": [
    "from bhr.pipe import Pipe"
   ]
  },
  {
   "cell_type": "code",
   "execution_count": null,
   "id": "9a4a7663-51b5-47da-b203-622d54f953c4",
   "metadata": {},
   "outputs": [],
   "source": [
    "def lpm_to_m3s(x):\n",
    "    return x / 1000 / 60"
   ]
  },
  {
   "cell_type": "code",
   "execution_count": null,
   "id": "039ca27e-dc4e-4fde-91c6-6631942e2af0",
   "metadata": {},
   "outputs": [],
   "source": [
    "def inch_to_m(x):\n",
    "    return x * 0.0254"
   ]
  },
  {
   "cell_type": "code",
   "execution_count": null,
   "id": "b1810007-20d6-4340-a45b-ecdb4e69204d",
   "metadata": {},
   "outputs": [],
   "source": [
    "flow_lpm = range(0, 61, 1)\n",
    "flow_m3s = [lpm_to_m3s(x) for x in flow_lpm]"
   ]
  },
  {
   "cell_type": "code",
   "execution_count": null,
   "id": "584f5fed-acc9-4e6d-ae46-06d6d7434692",
   "metadata": {},
   "outputs": [],
   "source": [
    "class UTubeType(Enum):\n",
    "    SINGLE = auto()\n",
    "    DOUBLEPARALLEL = auto()\n",
    "    DOUBLESERIES = auto()"
   ]
  },
  {
   "cell_type": "code",
   "execution_count": null,
   "id": "6f56d746-2dc8-477d-8d31-a281377673e6",
   "metadata": {},
   "outputs": [],
   "source": [
    "def get_pressure_loss_per_meter_bh(bh_flow_m3s, fluid_name, fluid_conc, temp, od_inch, pipe_type):\n",
    "    bh_length = 100\n",
    "    u_pipe_length = bh_length * 2\n",
    "\n",
    "    if pipe_type == UTubeType.SINGLE:\n",
    "        pipe_length = u_pipe_length\n",
    "        bh_flow = bh_flow_m3s\n",
    "    elif pipe_type == UTubeType.DOUBLEPARALLEL:\n",
    "        pipe_length = u_pipe_length\n",
    "        bh_flow = [x / 2 for x in bh_flow_m3s]\n",
    "    elif pipe_type == UTubeType.DOUBLESERIES:\n",
    "        pipe_length = u_pipe_length * 2\n",
    "        bh_flow = bh_flow_m3s\n",
    "\n",
    "    p = Pipe(\n",
    "        pipe_outer_diameter=inch_to_m(od_inch),\n",
    "        pipe_dimension_ratio=11,\n",
    "        pipe_length=pipe_length,\n",
    "        pipe_conductivity=0.4,\n",
    "        fluid_type=fluid_name,\n",
    "        fluid_concentration=fluid_conc,\n",
    "    )\n",
    "\n",
    "    dp = [p.pressure_loss_v_dot(x, temp=temp) / bh_length for x in bh_flow]\n",
    "\n",
    "    return dp"
   ]
  },
  {
   "cell_type": "code",
   "execution_count": null,
   "id": "f0276fa6-8c70-440e-a96d-97e404e70579",
   "metadata": {},
   "outputs": [],
   "source": [
    "def plot_fill_between(x, y_l, y_m, y_h, ax, color, label):\n",
    "    ax.plot(x, y_m, color=color, label=label)\n",
    "    ax.fill_between(x, y_l, y_h, color=color, alpha=0.2, label=\" \")\n",
    "    handles, labels = ax.get_legend_handles_labels()\n",
    "    ax.legend(\n",
    "        handles=[(h1, h2) for h1, h2 in zip(handles[::2], handles[1::2])],\n",
    "        labels=[l1 + \"\" + l2 for l1, l2 in zip(labels[::2], labels[1::2])],\n",
    "    )"
   ]
  },
  {
   "cell_type": "code",
   "execution_count": null,
   "id": "da619f29-4544-4ba6-8dbd-da8614e3aaf2",
   "metadata": {},
   "outputs": [],
   "source": [
    "def get_dp_range(flow_m3s, fluid_name, fluid_conc, outer_dia_inch, pipe_type):\n",
    "    dp_l = get_pressure_loss_per_meter_bh(flow_m3s, fluid_name, fluid_conc, 5, outer_dia_inch, pipe_type)\n",
    "    dp_m = get_pressure_loss_per_meter_bh(flow_m3s, fluid_name, fluid_conc, 15, outer_dia_inch, pipe_type)\n",
    "    dp_h = get_pressure_loss_per_meter_bh(flow_m3s, fluid_name, fluid_conc, 25, outer_dia_inch, pipe_type)\n",
    "\n",
    "    # this is not really correct, but is added here to mask the effects of the laminar transition a lower flow rates\n",
    "    dp_high_range = (dp_m[-1] - dp_h[-1]) / dp_m[-1]\n",
    "    dp_low_range = (dp_l[-1] - dp_m[-1]) / dp_m[-1]\n",
    "\n",
    "    dp_h = [x * (1 - dp_high_range) for x in dp_m]\n",
    "    dp_l = [x * (1 + dp_low_range) for x in dp_m]\n",
    "\n",
    "    return dp_l, dp_m, dp_h"
   ]
  },
  {
   "cell_type": "code",
   "execution_count": null,
   "id": "0e71066e-d18e-4cb7-80c9-51e12ee30f8c",
   "metadata": {},
   "outputs": [],
   "source": [
    "fig, ax = plt.subplots()\n",
    "\n",
    "od_sizes_inch = [1.05, 1.315, 1.66, 1.9]\n",
    "colors = [\"r\", \"k\", \"c\", \"b\"]\n",
    "labels = ['3/4\"', '1\"', '1-1/4\"', '1-1/2\"']\n",
    "\n",
    "for od, c, lab in zip(od_sizes_inch, colors, labels):\n",
    "    dp_l, dp_m, dp_h = get_dp_range(flow_m3s, \"Water\", 0, od, UTubeType.SINGLE)\n",
    "    plot_fill_between(flow_lpm, dp_l, dp_m, dp_h, ax, c, lab)\n",
    "\n",
    "ax.set_xlim([0, 60])\n",
    "ax.set_ylim([0, 600])\n",
    "ax.set_ylabel(\"Pressure Loss (Pa/m of borehole)\")\n",
    "ax.set_xlabel(\"Borehole Vol Flow (l/min)\")\n",
    "\n",
    "plt.title(\"Single U-tube, Water, 5-25°C\")\n",
    "plt.tight_layout()\n",
    "plt.grid()\n",
    "plt.savefig(\"SingleU_Water.png\", bbox_inches=\"tight\")\n",
    "plt.show()"
   ]
  },
  {
   "cell_type": "code",
   "execution_count": null,
   "id": "54dda827-de0f-4752-abc5-077b29239d53",
   "metadata": {},
   "outputs": [],
   "source": [
    "fig, ax = plt.subplots()\n",
    "\n",
    "od_sizes_inch = [1.05, 1.315, 1.66, 1.9]\n",
    "colors = [\"r\", \"k\", \"c\", \"b\"]\n",
    "labels = ['3/4\"', '1\"', '1-1/4\"', '1-1/2\"']\n",
    "\n",
    "for od, c, lab in zip(od_sizes_inch, colors, labels):\n",
    "    dp_l, dp_m, dp_h = get_dp_range(flow_m3s, \"Water\", 0, od, UTubeType.DOUBLEPARALLEL)\n",
    "    plot_fill_between(flow_lpm, dp_l, dp_m, dp_h, ax, c, lab)\n",
    "\n",
    "ax.set_xlim([0, 60])\n",
    "ax.set_ylim([0, 600])\n",
    "ax.set_ylabel(\"Pressure Loss (Pa/m of borehole)\")\n",
    "ax.set_xlabel(\"Borehole Vol Flow (l/min)\")\n",
    "\n",
    "plt.title(\"Double U-tube Parallel, Water, 5-25°C\")\n",
    "plt.tight_layout()\n",
    "plt.grid()\n",
    "plt.savefig(\"DoubleUParallel_Water.png\", bbox_inches=\"tight\")\n",
    "plt.show()"
   ]
  },
  {
   "cell_type": "code",
   "execution_count": null,
   "id": "160098d6-0625-4c6d-b79d-9703b00edf22",
   "metadata": {},
   "outputs": [],
   "source": [
    "fig, ax = plt.subplots()\n",
    "\n",
    "od_sizes_inch = [1.05, 1.315, 1.66, 1.9]\n",
    "colors = [\"r\", \"k\", \"c\", \"b\"]\n",
    "labels = ['3/4\"', '1\"', '1-1/4\"', '1-1/2\"']\n",
    "\n",
    "for od, c, lab in zip(od_sizes_inch, colors, labels):\n",
    "    dp_l, dp_m, dp_h = get_dp_range(flow_m3s, \"PropyleneGlycol\", 0.25, od, UTubeType.SINGLE)\n",
    "    plot_fill_between(flow_lpm, dp_l, dp_m, dp_h, ax, c, lab)\n",
    "\n",
    "ax.set_xlim([0, 60])\n",
    "ax.set_ylim([0, 600])\n",
    "ax.set_ylabel(\"Pressure Loss (Pa/m of borehole)\")\n",
    "ax.set_xlabel(\"Borehole Vol Flow (l/min)\")\n",
    "\n",
    "plt.title(\"Single U-tube, PG 25%, 5-25°C\")\n",
    "plt.tight_layout()\n",
    "plt.grid()\n",
    "plt.savefig(\"SingleU_PG.png\", bbox_inches=\"tight\")\n",
    "plt.show()"
   ]
  },
  {
   "cell_type": "code",
   "execution_count": null,
   "id": "20253f6b-2380-4e23-aea5-22dab350f20b",
   "metadata": {},
   "outputs": [],
   "source": [
    "fig, ax = plt.subplots()\n",
    "\n",
    "od_sizes_inch = [1.05, 1.315, 1.66, 1.9]\n",
    "colors = [\"r\", \"k\", \"c\", \"b\"]\n",
    "labels = ['3/4\"', '1\"', '1-1/4\"', '1-1/2\"']\n",
    "pipe_types = [UTubeType.DOUBLEPARALLEL] * len(od_sizes_inch)\n",
    "\n",
    "for od, c, lab, p_type in zip(od_sizes_inch, colors, labels, pipe_types):\n",
    "    dp_l, dp_m, dp_h = get_dp_range(flow_m3s, \"PropyleneGlycol\", 0.25, od, p_type)\n",
    "    plot_fill_between(flow_lpm, dp_l, dp_m, dp_h, ax, c, lab)\n",
    "\n",
    "ax.set_xlim([0, 60])\n",
    "ax.set_ylim([0, 600])\n",
    "ax.set_ylabel(\"Pressure Loss (Pa/m of borehole)\")\n",
    "ax.set_xlabel(\"Borehole Vol Flow (l/min)\")\n",
    "\n",
    "plt.title(\"Double U-tube Parallel, PG 25%, 5-25°C\")\n",
    "plt.tight_layout()\n",
    "plt.grid()\n",
    "plt.savefig(\"DoubleUParallel_PG.png\", bbox_inches=\"tight\")\n",
    "plt.show()"
   ]
  },
  {
   "cell_type": "code",
   "execution_count": null,
   "id": "95ffebda-3a18-423e-ab8e-75854df67bfe",
   "metadata": {},
   "outputs": [],
   "source": [
    "fig, ax = plt.subplots()\n",
    "\n",
    "od_sizes_inch = [1.315, 1.315, 1.66, 1.66]\n",
    "colors = [\"r\", \"k\", \"c\", \"b\"]\n",
    "labels = ['1\" Single-U', '1\" Double-U Parallel', '1-1/4\" Single-U', '1-1/4\" Double-U Parallel']\n",
    "pipe_types = [UTubeType.SINGLE, UTubeType.DOUBLEPARALLEL, UTubeType.SINGLE, UTubeType.DOUBLEPARALLEL]\n",
    "\n",
    "for od, c, lab, p_type in zip(od_sizes_inch, colors, labels, pipe_types):\n",
    "    dp_l, dp_m, dp_h = get_dp_range(flow_m3s, \"Water\", 0.0, od, p_type)\n",
    "    plot_fill_between(flow_lpm, dp_l, dp_m, dp_h, ax, c, lab)\n",
    "\n",
    "ax.set_xlim([0, 60])\n",
    "ax.set_ylim([0, 600])\n",
    "ax.set_ylabel(\"Pressure Loss (Pa/m of borehole)\")\n",
    "ax.set_xlabel(\"Borehole Vol Flow (l/min)\")\n",
    "\n",
    "plt.title(\"Water, 5-25°C\")\n",
    "plt.tight_layout()\n",
    "plt.grid()\n",
    "plt.savefig(\"SingleU-DoubleUParallel_Water.png\", bbox_inches=\"tight\")\n",
    "plt.show()"
   ]
  },
  {
   "cell_type": "code",
   "execution_count": null,
   "id": "cae58c4b-9ea2-4a75-a878-49fd715f736e",
   "metadata": {},
   "outputs": [],
   "source": [
    "fig, ax = plt.subplots()\n",
    "\n",
    "od_sizes_inch = [1.315, 1.315, 1.66, 1.66]\n",
    "colors = [\"r\", \"k\", \"c\", \"b\"]\n",
    "labels = ['1\" Single-U', '1\" Double-U Parallel', '1-1/4\" Single-U', '1-1/4\" Double-U Parallel']\n",
    "pipe_types = [UTubeType.SINGLE, UTubeType.DOUBLEPARALLEL, UTubeType.SINGLE, UTubeType.DOUBLEPARALLEL]\n",
    "\n",
    "for od, c, lab, p_type in zip(od_sizes_inch, colors, labels, pipe_types):\n",
    "    dp_l, dp_m, dp_h = get_dp_range(flow_m3s, \"PropyleneGlycol\", 0.25, od, p_type)\n",
    "    plot_fill_between(flow_lpm, dp_l, dp_m, dp_h, ax, c, lab)\n",
    "\n",
    "ax.set_xlim([0, 60])\n",
    "ax.set_ylim([0, 600])\n",
    "ax.set_ylabel(\"Pressure Loss (Pa/m of borehole)\")\n",
    "ax.set_xlabel(\"Borehole Vol Flow (l/min)\")\n",
    "\n",
    "plt.title(\"PG, 25%, 5-25°C\")\n",
    "plt.tight_layout()\n",
    "plt.grid()\n",
    "plt.savefig(\"SingleU-DoubleUParallel_PG.png\", bbox_inches=\"tight\")\n",
    "plt.show()"
   ]
  },
  {
   "cell_type": "code",
   "execution_count": null,
   "id": "3dc4d749-a96f-4d3d-aecf-e21121406623",
   "metadata": {},
   "outputs": [],
   "source": []
  }
 ],
 "metadata": {
  "kernelspec": {
   "display_name": "Python 3 (ipykernel)",
   "language": "python",
   "name": "python3"
  },
  "language_info": {
   "codemirror_mode": {
    "name": "ipython",
    "version": 3
   },
   "file_extension": ".py",
   "mimetype": "text/x-python",
   "name": "python",
   "nbconvert_exporter": "python",
   "pygments_lexer": "ipython3",
   "version": "3.12.9"
  }
 },
 "nbformat": 4,
 "nbformat_minor": 5
}
