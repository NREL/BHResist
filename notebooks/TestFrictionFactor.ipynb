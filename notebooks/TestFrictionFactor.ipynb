{
 "cells": [
  {
   "cell_type": "code",
   "execution_count": null,
   "id": "20df2ed1-02d6-4165-8c58-95b6c8a0b800",
   "metadata": {},
   "outputs": [],
   "source": [
    "!pip install matplotlib"
   ]
  },
  {
   "cell_type": "code",
   "execution_count": null,
   "id": "aecf72e8-f422-43ff-807c-443e9bd65baa",
   "metadata": {},
   "outputs": [],
   "source": [
    "import logging\n",
    "import sys\n",
    "from pathlib import Path\n",
    "\n",
    "import matplotlib.pyplot as plt\n",
    "import numpy as np"
   ]
  },
  {
   "cell_type": "code",
   "execution_count": null,
   "id": "95ce34b8-1135-461f-a255-0478733bd921",
   "metadata": {},
   "outputs": [],
   "source": [
    "logging.getLogger(\"matplotlib.font_manager\").setLevel(logging.ERROR)\n",
    "logging.getLogger(\"matplotlib.ticker\").setLevel(logging.ERROR)\n",
    "logging.getLogger(\"matplotlib.pyplot\").setLevel(logging.ERROR)"
   ]
  },
  {
   "cell_type": "code",
   "execution_count": null,
   "id": "6ba1ffbf-f4af-4440-ae1a-a913b43334d4",
   "metadata": {},
   "outputs": [],
   "source": [
    "here = Path()\n",
    "root = here / \"..\"\n",
    "root.exists()"
   ]
  },
  {
   "cell_type": "code",
   "execution_count": null,
   "id": "e05e555b-b68c-4615-bb2d-ddfb6df4132f",
   "metadata": {},
   "outputs": [],
   "source": [
    "sys.path.insert(0, str(root.resolve()))"
   ]
  },
  {
   "cell_type": "code",
   "execution_count": null,
   "id": "9b2683bb-24ed-4edd-b03f-a60490723fd2",
   "metadata": {},
   "outputs": [],
   "source": [
    "from bhr.pipe import Pipe"
   ]
  },
  {
   "cell_type": "code",
   "execution_count": null,
   "id": "8b1dbcd5-f7d5-4347-8dee-3efef3fb25b6",
   "metadata": {},
   "outputs": [],
   "source": [
    "p = Pipe(\n",
    "    pipe_outer_diameter=0.0334, pipe_dimension_ratio=11, pipe_length=100, pipe_conductivity=0.4, fluid_type=\"WATER\"\n",
    ")\n",
    "\n",
    "re_vals = []\n",
    "f_vals = []\n",
    "\n",
    "for re in np.logspace(3, 4, num=100):\n",
    "    f = p.friction_factor(re)\n",
    "    re_vals.append(re)\n",
    "    f_vals.append(f)"
   ]
  },
  {
   "cell_type": "code",
   "execution_count": null,
   "id": "c8360548-fa7a-4356-bab9-47b085fd0ab7",
   "metadata": {},
   "outputs": [],
   "source": [
    "fig, ax = plt.subplots()\n",
    "\n",
    "ax.plot(re_vals, f_vals, marker=\"x\")\n",
    "\n",
    "ax.set_ylabel(\"Friction Factor\")\n",
    "ax.set_xlabel(\"Reynolds No.\")"
   ]
  }
 ],
 "metadata": {
  "kernelspec": {
   "display_name": "Python 3 (ipykernel)",
   "language": "python",
   "name": "python3"
  },
  "language_info": {
   "codemirror_mode": {
    "name": "ipython",
    "version": 3
   },
   "file_extension": ".py",
   "mimetype": "text/x-python",
   "name": "python",
   "nbconvert_exporter": "python",
   "pygments_lexer": "ipython3",
   "version": "3.12.9"
  }
 },
 "nbformat": 4,
 "nbformat_minor": 5
}
